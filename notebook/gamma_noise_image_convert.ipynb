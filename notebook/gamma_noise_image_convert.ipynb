{
 "cells": [
  {
   "cell_type": "markdown",
   "metadata": {},
   "source": [
    "# Converter"
   ]
  },
  {
   "cell_type": "code",
   "execution_count": null,
   "metadata": {
    "ExecuteTime": {
     "end_time": "2020-10-08T02:11:58.050068Z",
     "start_time": "2020-10-08T02:11:58.038641Z"
    }
   },
   "outputs": [],
   "source": [
    "import cv2\n",
    "import numpy as np\n",
    "import matplotlib.pyplot as plt\n",
    "import json\n",
    "from converter import convert_func\n",
    "DATA_FOLDER = \"./data/\"\n",
    "CAM_NAME = \"camera3\"\n",
    "\n",
    "# DATA_FOLDER = \"./data2/\"\n",
    "# CAM_NAME = \"camera2\"\n",
    "\n",
    "# DATA_FOLDER = \"./data0/\"\n",
    "# CAM_NAME = \"camera0\"\n",
    "\n",
    "# DATA_FOLDER = \"./data1/\"\n",
    "# CAM_NAME = \"camera1\"\n",
    "\n",
    "DATA_FOLDER = \"./data_xu/\"\n",
    "CAM_NAME = \"camera\"\n",
    "\n",
    "%matplotlib inline"
   ]
  },
  {
   "cell_type": "markdown",
   "metadata": {},
   "source": [
    "# Load groundtruth noise"
   ]
  },
  {
   "cell_type": "code",
   "execution_count": null,
   "metadata": {},
   "outputs": [],
   "source": [
    "video_fname = \"./turbine_testv3_0010-0050_share.mp4\"\n",
    "cap = cv2.VideoCapture(video_fname)\n",
    "cap.isOpened()"
   ]
  },
  {
   "cell_type": "code",
   "execution_count": null,
   "metadata": {},
   "outputs": [],
   "source": [
    "wo_noise_imgs = []\n",
    "while True:\n",
    "    ret, img = cap.read()\n",
    "    if not ret:\n",
    "        break\n",
    "    wo_noise_imgs.append(img)"
   ]
  },
  {
   "cell_type": "code",
   "execution_count": null,
   "metadata": {},
   "outputs": [],
   "source": [
    "for it in wo_noise_imgs:\n",
    "    cv2.imshow('img', it)\n",
    "    key = cv2.waitKey(300)\n",
    "    if key == 27:\n",
    "        break\n",
    "cv2.destroyAllWindows()"
   ]
  },
  {
   "cell_type": "code",
   "execution_count": null,
   "metadata": {},
   "outputs": [],
   "source": [
    "plt.imshow(wo_noise_imgs[0][:,:,::-1])"
   ]
  },
  {
   "cell_type": "markdown",
   "metadata": {},
   "source": [
    "# Load optim functio"
   ]
  },
  {
   "cell_type": "code",
   "execution_count": null,
   "metadata": {
    "ExecuteTime": {
     "end_time": "2020-10-08T02:05:00.757054Z",
     "start_time": "2020-10-08T02:05:00.752992Z"
    }
   },
   "outputs": [],
   "source": [
    "# Load optim function\n",
    "# json_fname = f\"convert_params_{CAM_NAME}.json\"\n",
    "json_fname = f\"convert_params_camera3.json\"\n",
    "with open(json_fname) as f:\n",
    "    params = json.load(f)\n",
    "    \n",
    "original_fps = 12\n",
    "video_fps = 24\n",
    "print(f\"origial fps: {original_fps}\")\n",
    "print(f\"video fps: {video_fps}\")\n",
    "print(\"Adjust max_val\")\n",
    "params[\"max_val\"] = params[\"max_val\"] * original_fps / video_fps \n",
    "print(params)"
   ]
  },
  {
   "cell_type": "markdown",
   "metadata": {},
   "source": [
    "# Generate noise image"
   ]
  },
  {
   "cell_type": "code",
   "execution_count": null,
   "metadata": {},
   "outputs": [],
   "source": [
    "geant4_deposits = []\n",
    "for i in range(1000):\n",
    "    try:\n",
    "        deposit = np.load(f\"{DATA_FOLDER}/geant4_gamma_noise_{i}.npy\")\n",
    "        geant4_deposits.append(deposit)\n",
    "    except:\n",
    "        print(\"Finish loading: Total\", i)\n",
    "        break"
   ]
  },
  {
   "cell_type": "code",
   "execution_count": null,
   "metadata": {},
   "outputs": [],
   "source": [
    "from converter import normalize_image, jpeg_block_noise\n",
    "def convert_func_color(geant4_deposit, wo_noise, **kwargs):\n",
    "    #     print('kwargs: ', kwargs)\n",
    "    geant4_noise = geant4_deposit.copy()\n",
    "    geant4_noise = cv2.GaussianBlur(geant4_noise, (3, 3), kwargs[\"blur_sigma\"])\n",
    "    geant4_noise_wo_jpeg = normalize_image(\n",
    "        geant4_noise, min_val=0, max_val=kwargs[\"max_val\"]\n",
    "    )\n",
    "    geant4_noise = jpeg_block_noise(\n",
    "        geant4_noise_wo_jpeg, quality=kwargs[\"jpeg_quality\"]\n",
    "    )\n",
    "\n",
    "    if geant4_noise.dtype != np.uint8:\n",
    "        geant4_noise = (255 * geant4_noise).astype(np.uint8)\n",
    "\n",
    "    # absolute noise model\n",
    "    noisy_img = wo_noise.copy()\n",
    "    mask = np.any(geant4_noise[...,None] > wo_noise, axis=-1)\n",
    "    noisy_img[mask] = geant4_noise[mask][..., None]\n",
    "\n",
    "    return noisy_img"
   ]
  },
  {
   "cell_type": "code",
   "execution_count": null,
   "metadata": {},
   "outputs": [],
   "source": [
    "len(wo_noise_imgs)"
   ]
  },
  {
   "cell_type": "code",
   "execution_count": null,
   "metadata": {
    "ExecuteTime": {
     "end_time": "2020-10-07T05:57:14.130686Z",
     "start_time": "2020-10-07T05:57:14.079770Z"
    }
   },
   "outputs": [],
   "source": [
    "# Generate gamma noise image\n",
    "noisy_imgs = []\n",
    "for deposit, wo_noise in zip(geant4_deposits, wo_noise_imgs):\n",
    "    noisy_img = convert_func_color(deposit, wo_noise, **params)\n",
    "    noisy_imgs.append(noisy_img)"
   ]
  },
  {
   "cell_type": "code",
   "execution_count": null,
   "metadata": {},
   "outputs": [],
   "source": [
    "for it in noisy_imgs:\n",
    "    cv2.imshow('img', it)\n",
    "    key = cv2.waitKey(100)\n",
    "    if key == 27:\n",
    "        break\n",
    "cv2.destroyAllWindows()"
   ]
  },
  {
   "cell_type": "code",
   "execution_count": null,
   "metadata": {},
   "outputs": [],
   "source": [
    "h,w,c = noisy_imgs[0].shape\n",
    "frame_rate = 24.0\n",
    "size = (w, h)\n",
    "fmt = cv2.VideoWriter_fourcc('m', 'p', '4', 'v') \n",
    "writer = cv2.VideoWriter('waterdrop_noisy.mp4', fmt, frame_rate, size)\n",
    "for it in noisy_imgs:\n",
    "    writer.write(it)\n",
    "writer.release()"
   ]
  },
  {
   "cell_type": "code",
   "execution_count": null,
   "metadata": {},
   "outputs": [],
   "source": [
    "#############################\n",
    "## Xu paper until here\n",
    "#############################"
   ]
  },
  {
   "cell_type": "code",
   "execution_count": null,
   "metadata": {},
   "outputs": [],
   "source": [
    "subtractor = cv2.createBackgroundSubtractorMOG2()-"
   ]
  },
  {
   "cell_type": "code",
   "execution_count": null,
   "metadata": {},
   "outputs": [],
   "source": [
    "for it in noisy_imgs:\n",
    "    bkg = subtractor.apply(it)\n",
    "    cv2.imshow('img', it)\n",
    "    cv2.imshow('bkg', bkg)\n",
    "    key = cv2.waitKey(0)\n",
    "    if key == 27:\n",
    "        break\n",
    "cv2.destroyAllWindows()"
   ]
  },
  {
   "cell_type": "code",
   "execution_count": null,
   "metadata": {},
   "outputs": [],
   "source": [
    "concat_imgs = np.array(noisy_imgs)\n",
    "batch_size = concat_imgs.shape[0]"
   ]
  },
  {
   "cell_type": "code",
   "execution_count": null,
   "metadata": {},
   "outputs": [],
   "source": []
  },
  {
   "cell_type": "code",
   "execution_count": null,
   "metadata": {},
   "outputs": [],
   "source": [
    "def imshow(img):\n",
    "    plt.imshow(img[:,:,::-1])\n",
    "def median(imgs):\n",
    "    return np.median(imgs, axis=0).astype(np.uint8)"
   ]
  },
  {
   "cell_type": "code",
   "execution_count": null,
   "metadata": {},
   "outputs": [],
   "source": [
    "i = 0\n",
    "for _i in range(3):\n",
    "    cv2.imshow(f\"img{_i}\", concat_imgs[i+_i])\n",
    "#     cv2.imwrite(f\"img{_i}.png\", concat_imgs[i+_i])\n",
    "    \n",
    "cv2.imshow('median', median(concat_imgs[i:i+3]))\n",
    "# cv2.imwrite(\"median.png\", median(concat_imgs[i:i+3]))\n",
    "cv2.waitKey()\n",
    "cv2.destroyAllWindows()"
   ]
  },
  {
   "cell_type": "code",
   "execution_count": null,
   "metadata": {
    "scrolled": true
   },
   "outputs": [],
   "source": [
    "imshow(concat_imgs[0])"
   ]
  },
  {
   "cell_type": "code",
   "execution_count": null,
   "metadata": {},
   "outputs": [],
   "source": [
    "imshow(concat_imgs[1])"
   ]
  },
  {
   "cell_type": "code",
   "execution_count": null,
   "metadata": {},
   "outputs": [],
   "source": [
    "imshow(concat_imgs[2])"
   ]
  },
  {
   "cell_type": "code",
   "execution_count": null,
   "metadata": {},
   "outputs": [],
   "source": [
    "subtractor = cv2.createBackgroundSubtractorMOG2(detectShadows=False)"
   ]
  },
  {
   "cell_type": "code",
   "execution_count": null,
   "metadata": {},
   "outputs": [],
   "source": [
    "for i in range(batch_size-2):\n",
    "#     img = concat_imgs[i]\n",
    "#     img = np.median(concat_imgs[i:i+3], axis=0).astype(np.uint8)\n",
    "    img = cv2.medianBlur(concat_imgs[i], 5)\n",
    "    bkg = subtractor.apply(img)\n",
    "    cv2.imshow('img', img)\n",
    "    cv2.imshow('bkg', bkg)\n",
    "    key = cv2.waitKey(0)\n",
    "    if key == 27:\n",
    "        break\n",
    "cv2.destroyAllWindows()"
   ]
  },
  {
   "cell_type": "code",
   "execution_count": null,
   "metadata": {},
   "outputs": [],
   "source": [
    "data"
   ]
  },
  {
   "cell_type": "code",
   "execution_count": null,
   "metadata": {},
   "outputs": [],
   "source": [
    "data[0:3]"
   ]
  },
  {
   "cell_type": "code",
   "execution_count": null,
   "metadata": {},
   "outputs": [],
   "source": [
    "plt.imshow(data[0, :, 540:640])"
   ]
  },
  {
   "cell_type": "code",
   "execution_count": null,
   "metadata": {},
   "outputs": [],
   "source": [
    "plt.hist(data[:, 0, 0, 0])"
   ]
  },
  {
   "cell_type": "code",
   "execution_count": null,
   "metadata": {},
   "outputs": [],
   "source": []
  },
  {
   "cell_type": "code",
   "execution_count": null,
   "metadata": {},
   "outputs": [],
   "source": []
  },
  {
   "cell_type": "code",
   "execution_count": null,
   "metadata": {},
   "outputs": [],
   "source": []
  },
  {
   "cell_type": "code",
   "execution_count": null,
   "metadata": {},
   "outputs": [],
   "source": []
  },
  {
   "cell_type": "code",
   "execution_count": null,
   "metadata": {},
   "outputs": [],
   "source": []
  },
  {
   "cell_type": "code",
   "execution_count": null,
   "metadata": {},
   "outputs": [],
   "source": []
  },
  {
   "cell_type": "code",
   "execution_count": null,
   "metadata": {
    "ExecuteTime": {
     "end_time": "2020-10-07T06:45:14.704009Z",
     "start_time": "2020-10-07T06:45:14.344515Z"
    }
   },
   "outputs": [],
   "source": [
    "from scipy.stats import binom\n",
    "\n",
    "# Salt-and-pepper\n",
    "json_fname = f\"convert_params_{CAM_NAME}_salt_pepper.json\"\n",
    "with open(json_fname) as f:\n",
    "    sp_params = json.load(f)\n",
    "    \n",
    "def add_salt_and_pepper(wo_noise, p=0.1):\n",
    "    s_p_noisy = wo_noise.copy()\n",
    "    salt_pepper = binom.rvs(n=1, p=p, loc=0, size=img_size)\n",
    "    s_p_noisy[salt_pepper==1] = 255\n",
    "    return s_p_noisy\n",
    "\n",
    "img_size = wo_noise.shape\n",
    "p = 0.01\n",
    "salt_pepper = binom.rvs(n=1, p=p, loc=0, size=img_size)\n",
    "plt.imshow(salt_pepper)"
   ]
  },
  {
   "cell_type": "code",
   "execution_count": null,
   "metadata": {
    "ExecuteTime": {
     "end_time": "2020-10-07T05:57:17.419850Z",
     "start_time": "2020-10-07T05:57:15.122728Z"
    }
   },
   "outputs": [],
   "source": [
    "# Visualize gamma images\n",
    "from itertools import cycle\n",
    "\n",
    "# Save as video\n",
    "cap_frames = {}\n",
    "cap_frames[\"gt\"] = []\n",
    "cap_frames[\"proposed\"] = []\n",
    "cap_frames[\"salt\"] = []\n",
    "\n",
    "i = 0\n",
    "while True:\n",
    "    cv2.imshow(\"img wo noise\", wo_noise)\n",
    "    noisy = noisy_imgs[i%len(noisy_imgs)]\n",
    "    cv2.imshow(\"noisy img\", noisy)\n",
    "    cap_frames[\"proposed\"].append(noisy)\n",
    "    \n",
    "    gt = gt_noises[i%len(gt_noises)]\n",
    "    cap_frames[\"gt\"].append(gt)\n",
    "    cv2.imshow(\"gt noise\", gt)\n",
    "    \n",
    "    s_p_noisy = add_salt_and_pepper(wo_noise, p=sp_params['prob'])\n",
    "    cv2.imshow(\"Salt-and-pepper noise\", s_p_noisy)\n",
    "    cap_frames[\"salt\"].append(s_p_noisy)\n",
    "\n",
    "    key = cv2.waitKey(40)\n",
    "    if key == 27:\n",
    "        break\n",
    "    i += 1\n",
    "    if i==(12*10):\n",
    "        break\n",
    "cv2.destroyAllWindows()"
   ]
  },
  {
   "cell_type": "code",
   "execution_count": null,
   "metadata": {
    "ExecuteTime": {
     "end_time": "2020-10-07T05:57:17.429814Z",
     "start_time": "2020-10-07T05:57:17.423099Z"
    }
   },
   "outputs": [],
   "source": [
    "len(cap_frames[\"proposed\"])"
   ]
  },
  {
   "cell_type": "code",
   "execution_count": null,
   "metadata": {},
   "outputs": [],
   "source": [
    "# from os.path import join\n",
    "# VIDEO_FOLDER = \"presen_video\"\n",
    "# frame_rate = 12.0\n",
    "# size = (256, 256)\n",
    "\n",
    "# for key, imgs in cap_frames.items():\n",
    "# #     video_fname = join(VIDEO_FOLDER, f\"{CAM_NAME}_{key}.mp4\")\n",
    "#     video_fname = join(VIDEO_FOLDER, f\"{CAM_NAME}_{key}.avi\")\n",
    "#     print(video_fname)\n",
    "# #     fourcc = cv2.VideoWriter_fourcc(*\"mp4v\")\n",
    "#     fourcc = cv2.VideoWriter_fourcc(*'XVID')\n",
    "#     writer = cv2.VideoWriter(video_fname, fourcc, frame_rate, size) # ライター作成\n",
    "#     for img in imgs:\n",
    "#         writer.write(img)\n",
    "#     writer.release()"
   ]
  },
  {
   "cell_type": "code",
   "execution_count": null,
   "metadata": {},
   "outputs": [],
   "source": [
    "import os\n",
    "from os.path import join\n",
    "VIDEO_FOLDER = \"presen_video\"+CAM_NAME[-1]\n",
    "os.mkdir(VIDEO_FOLDER)\n",
    "\n",
    "frame_rate = 12.0\n",
    "size = (256, 256)\n",
    "\n",
    "for key, imgs in cap_frames.items():\n",
    "    for i, img in enumerate(imgs):\n",
    "        video_fname = join(VIDEO_FOLDER, f\"{CAM_NAME}_{key}_{i:03}.jpg\")\n",
    "        if (i%60)==0:\n",
    "            print(video_fname)\n",
    "        cv2.imwrite(video_fname, img)\n",
    "\n",
    "    msg = f\"ffmpeg -r 12 -f image2 -s 256x256 -i {join(VIDEO_FOLDER, CAM_NAME)}_{key}_%03d.jpg -vcodec libx264 -crf 10 -pix_fmt yuv420p {join(VIDEO_FOLDER, CAM_NAME)}_{key}.mp4\"\n",
    "    print(msg)\n",
    "    !$msg"
   ]
  },
  {
   "cell_type": "code",
   "execution_count": null,
   "metadata": {},
   "outputs": [],
   "source": [
    "video_fname = 'presen_video/'"
   ]
  },
  {
   "cell_type": "code",
   "execution_count": null,
   "metadata": {
    "ExecuteTime": {
     "end_time": "2020-10-07T06:51:30.860752Z",
     "start_time": "2020-10-07T06:51:30.856790Z"
    }
   },
   "outputs": [],
   "source": [
    "# wo_noise = cv2.imread(f\"{DATA_FOLDER}/image_wo_noise.png\", 0)\n",
    "# s_p_imgs = [add_salt_and_pepper(wo_noise, p=sp_params[\"prob\"]) for _ in range(5)]\n",
    "# PAPER_FOLDER = f\"./{CAM_NAME}_noise_paper/\"\n",
    "# for i, img in enumerate(s_p_imgs):\n",
    "#     cv2.imwrite(f\"{PAPER_FOLDER}/sp_noise_img_{i}.png\", img)\n",
    "# print(sp_params)"
   ]
  },
  {
   "cell_type": "markdown",
   "metadata": {
    "ExecuteTime": {
     "end_time": "2020-10-07T01:32:40.037433Z",
     "start_time": "2020-10-07T01:32:39.836303Z"
    }
   },
   "source": [
    "# Metrics"
   ]
  },
  {
   "cell_type": "code",
   "execution_count": null,
   "metadata": {
    "ExecuteTime": {
     "end_time": "2020-10-08T02:12:03.064900Z",
     "start_time": "2020-10-08T02:12:03.060285Z"
    }
   },
   "outputs": [],
   "source": [
    "CAM_NAME"
   ]
  },
  {
   "cell_type": "code",
   "execution_count": null,
   "metadata": {
    "ExecuteTime": {
     "end_time": "2020-10-08T02:12:03.283349Z",
     "start_time": "2020-10-08T02:12:03.239512Z"
    }
   },
   "outputs": [],
   "source": [
    "PAPER_FOLDER = f\"./{CAM_NAME}_noise_paper/\"\n",
    "print(PAPER_FOLDER)\n",
    "proposed_imgs = [cv2.imread(f\"{PAPER_FOLDER}/generated_noise_img_{i}.png\", 0) for i in range(5)]\n",
    "s_p_imgs = [cv2.imread(f\"{PAPER_FOLDER}/sp_noise_img_{i}.png\", 0) for i in range(5)]\n",
    "gt_noisy_imgs = [cv2.imread(f\"{PAPER_FOLDER}/gt_noise_img_{i}.png\", 0) for i in range(5)]"
   ]
  },
  {
   "cell_type": "code",
   "execution_count": null,
   "metadata": {
    "ExecuteTime": {
     "end_time": "2020-10-08T02:12:04.677090Z",
     "start_time": "2020-10-08T02:12:04.082369Z"
    }
   },
   "outputs": [],
   "source": [
    "import numpy as np\n",
    "import matplotlib.pyplot as plt\n",
    "\n",
    "from skimage import img_as_float\n",
    "from skimage.metrics import structural_similarity as ssim\n",
    "\n",
    "img = img_as_float(gt_noisy_imgs[0])\n",
    "img_proposed = img_as_float(proposed_imgs[0])\n",
    "img_sp = img_as_float(s_p_imgs[0])\n",
    "\n",
    "fig, axes = plt.subplots(nrows=1, ncols=3, figsize=(10, 4),\n",
    "                         sharex=True, sharey=True)\n",
    "ax = axes.ravel()\n",
    "\n",
    "ssim_proposed = ssim(img, img_proposed)\n",
    "ssim_sp = ssim(img, img_sp)\n",
    "\n",
    "label = 'SSIM: {:.2f}'\n",
    "\n",
    "ax[0].imshow(img, cmap=plt.cm.gray, vmin=0, vmax=1)\n",
    "ax[0].set_title('Groudtruth image')\n",
    "\n",
    "ax[1].imshow(img_proposed, cmap=plt.cm.gray, vmin=0, vmax=1)\n",
    "ax[1].set_xlabel(label.format(ssim_proposed))\n",
    "ax[1].set_title('Proposed noisy image')\n",
    "\n",
    "ax[2].imshow(img_sp, cmap=plt.cm.gray, vmin=0, vmax=1)\n",
    "ax[2].set_xlabel(label.format(ssim_sp))\n",
    "ax[2].set_title('Salt and pepper noisy image')\n",
    "\n",
    "plt.tight_layout()\n",
    "plt.savefig(f\"{PAPER_FOLDER}/plot_sim.pdf\")\n",
    "plt.show()\n"
   ]
  },
  {
   "cell_type": "code",
   "execution_count": null,
   "metadata": {
    "ExecuteTime": {
     "end_time": "2020-10-08T02:12:05.121640Z",
     "start_time": "2020-10-08T02:12:04.679651Z"
    },
    "scrolled": true
   },
   "outputs": [],
   "source": [
    "msg = '[{}] SSIM: {:.3f}±{:.3f}'\n",
    "# Proposed method score\n",
    "a = gt_noisy_imgs\n",
    "b = proposed_imgs\n",
    "proposed_scores = []\n",
    "for gt, img in ((x,y) for x in a for y in b):\n",
    "    gt = img_as_float(gt)\n",
    "    img = img_as_float(img)\n",
    "    score = ssim(gt, img)\n",
    "    proposed_scores.append(score)\n",
    "print(msg.format(\"proposed\", np.average(proposed_scores), np.std(proposed_scores)))\n",
    "\n",
    "# Salt-and-pepper method score\n",
    "a = gt_noisy_imgs\n",
    "b = s_p_imgs\n",
    "sp_scores = []\n",
    "for gt, img in ((x,y) for x in a for y in b):\n",
    "    gt = img_as_float(gt)\n",
    "    img = img_as_float(img)\n",
    "    score = ssim(gt, img)\n",
    "    sp_scores.append(score)\n",
    "    \n",
    "print(msg.format(\"salt-and-pepper\", np.average(sp_scores), np.std(sp_scores)))"
   ]
  },
  {
   "cell_type": "code",
   "execution_count": null,
   "metadata": {
    "ExecuteTime": {
     "end_time": "2020-10-08T02:12:05.126898Z",
     "start_time": "2020-10-08T02:12:05.123101Z"
    }
   },
   "outputs": [],
   "source": [
    "with open(f\"{PAPER_FOLDER}/ssim_score.txt\", 'w') as f:\n",
    "    msgs = [msg.format(\"proposed\", np.average(proposed_scores), np.std(proposed_scores)),\n",
    "            msg.format(\"salt-and-pepper\", np.average(sp_scores), np.std(sp_scores))]\n",
    "    f.writelines(\"\\n\".join(msgs))"
   ]
  },
  {
   "cell_type": "raw",
   "metadata": {
    "ExecuteTime": {
     "end_time": "2020-10-08T02:09:37.572876Z",
     "start_time": "2020-10-08T02:09:37.564530Z"
    }
   },
   "source": [
    "CAM0\n",
    "[proposed] SSIM: 0.323±0.005\n",
    "[salt-and-pepper] SSIM: 0.282±0.004\n",
    "CAM1\n",
    "[proposed] SSIM: 0.584±0.008\n",
    "[salt-and-pepper] SSIM: 0.490±0.005\n",
    "CAM2\n",
    "[proposed] SSIM: 0.775±0.010\n",
    "[salt-and-pepper] SSIM: 0.665±0.005\n",
    "CAM3\n",
    "[proposed] SSIM: 0.589±0.014\n",
    "[salt-and-pepper] SSIM: 0.456±0.010"
   ]
  },
  {
   "cell_type": "code",
   "execution_count": null,
   "metadata": {},
   "outputs": [],
   "source": []
  }
 ],
 "metadata": {
  "kernelspec": {
   "display_name": "Python 3",
   "language": "python",
   "name": "python3"
  },
  "language_info": {
   "codemirror_mode": {
    "name": "ipython",
    "version": 3
   },
   "file_extension": ".py",
   "mimetype": "text/x-python",
   "name": "python",
   "nbconvert_exporter": "python",
   "pygments_lexer": "ipython3",
   "version": "3.8.5"
  },
  "toc": {
   "base_numbering": 1,
   "nav_menu": {},
   "number_sections": true,
   "sideBar": true,
   "skip_h1_title": false,
   "title_cell": "Table of Contents",
   "title_sidebar": "Contents",
   "toc_cell": false,
   "toc_position": {},
   "toc_section_display": true,
   "toc_window_display": false
  }
 },
 "nbformat": 4,
 "nbformat_minor": 4
}
