{
 "cells": [
  {
   "cell_type": "markdown",
   "metadata": {},
   "source": [
    "# Converter"
   ]
  },
  {
   "cell_type": "code",
   "execution_count": null,
   "metadata": {
    "ExecuteTime": {
     "end_time": "2020-10-08T02:11:58.050068Z",
     "start_time": "2020-10-08T02:11:58.038641Z"
    }
   },
   "outputs": [],
   "source": [
    "import cv2\n",
    "import numpy as np\n",
    "import matplotlib.pyplot as plt\n",
    "import json\n",
    "from converter import convert_func\n",
    "import scipy.stats as stats\n",
    "from glob import glob\n",
    "import os\n",
    "from os.path import join\n",
    "DATA_FOLDER = \"./data/\"\n",
    "CAM_NAME = \"camera3\"\n",
    "\n",
    "# DATA_FOLDER = \"./data2/\"\n",
    "# CAM_NAME = \"camera2\"\n",
    "\n",
    "# DATA_FOLDER = \"./data0/\"\n",
    "# CAM_NAME = \"camera0\"\n",
    "\n",
    "# DATA_FOLDER = \"./data1/\"\n",
    "# CAM_NAME = \"camera1\"\n",
    "\n",
    "\n",
    "\n",
    "\"\"\"\n",
    "1. Generate _cs_nt_Pixel_eDep.csv using Geant4\n",
    "2. Save noise data as npy in data_xu_R using parameter_estimation.ipynb\n",
    "3. Generate noisy movie using gamma_noise_image_convert.ipynb \n",
    "4. Estimate leakage points using leakage_estimation.ipynb\n",
    "\"\"\"\n",
    "\n",
    "if False:\n",
    "    DATA_FOLDER = \"./data_xu_L/\"\n",
    "    video_fname = \"./turbine_testv5_L_0010-0082.mp4\"\n",
    "else:\n",
    "    DATA_FOLDER = \"./data_xu_R/\"\n",
    "    video_fname = \"./turbine_testv5_R_0010-0082.mp4\"\n",
    "\n",
    "CAM_NAME = \"camera\"\n",
    "\n",
    "%matplotlib inline"
   ]
  },
  {
   "cell_type": "code",
   "execution_count": null,
   "metadata": {},
   "outputs": [],
   "source": [
    "print(DATA_FOLDER)\n",
    "print(video_fname)"
   ]
  },
  {
   "cell_type": "markdown",
   "metadata": {},
   "source": [
    "# Load groundtruth noise"
   ]
  },
  {
   "cell_type": "code",
   "execution_count": null,
   "metadata": {},
   "outputs": [],
   "source": []
  },
  {
   "cell_type": "code",
   "execution_count": null,
   "metadata": {},
   "outputs": [],
   "source": [
    "cap = cv2.VideoCapture(video_fname)\n",
    "cap.isOpened()"
   ]
  },
  {
   "cell_type": "code",
   "execution_count": null,
   "metadata": {},
   "outputs": [],
   "source": [
    "wo_noise_imgs = []\n",
    "while True:\n",
    "    ret, img = cap.read()\n",
    "    if not ret:\n",
    "        break\n",
    "    wo_noise_imgs.append(img)"
   ]
  },
  {
   "cell_type": "code",
   "execution_count": null,
   "metadata": {},
   "outputs": [],
   "source": [
    "len(wo_noise_imgs)"
   ]
  },
  {
   "cell_type": "code",
   "execution_count": null,
   "metadata": {},
   "outputs": [],
   "source": [
    "for it in wo_noise_imgs:\n",
    "    cv2.imshow('img', it)\n",
    "    key = cv2.waitKey(300)\n",
    "    if key == 27:\n",
    "        break\n",
    "cv2.destroyAllWindows()"
   ]
  },
  {
   "cell_type": "code",
   "execution_count": null,
   "metadata": {},
   "outputs": [],
   "source": [
    "plt.imshow(wo_noise_imgs[0][:,:,::-1])"
   ]
  },
  {
   "cell_type": "markdown",
   "metadata": {},
   "source": [
    "# Load optim functio"
   ]
  },
  {
   "cell_type": "code",
   "execution_count": null,
   "metadata": {
    "ExecuteTime": {
     "end_time": "2020-10-08T02:05:00.757054Z",
     "start_time": "2020-10-08T02:05:00.752992Z"
    }
   },
   "outputs": [],
   "source": [
    "# Load optim function\n",
    "# json_fname = f\"convert_params_{CAM_NAME}.json\"\n",
    "json_fname = f\"convert_params_camera3.json\"\n",
    "with open(json_fname) as f:\n",
    "    params = json.load(f)\n",
    "    \n",
    "original_fps = 12\n",
    "video_fps = 24\n",
    "print(f\"origial fps: {original_fps}\")\n",
    "print(f\"video fps: {video_fps}\")\n",
    "print(\"Adjust max_val\")\n",
    "params[\"max_val\"] = params[\"max_val\"] * original_fps / video_fps \n",
    "print(params)"
   ]
  },
  {
   "cell_type": "markdown",
   "metadata": {},
   "source": [
    "# Generate noise image"
   ]
  },
  {
   "cell_type": "code",
   "execution_count": null,
   "metadata": {},
   "outputs": [],
   "source": [
    "geant4_deposits = []\n",
    "for i in range(1000):\n",
    "    try:\n",
    "        deposit = np.load(f\"{DATA_FOLDER}/geant4_gamma_noise_{i}.npy\")\n",
    "        geant4_deposits.append(deposit)\n",
    "    except:\n",
    "        print(\"Finish loading: Total\", i)\n",
    "        break"
   ]
  },
  {
   "cell_type": "code",
   "execution_count": null,
   "metadata": {},
   "outputs": [],
   "source": [
    "from converter import normalize_image, jpeg_block_noise\n",
    "def convert_func_color(geant4_deposit, wo_noise, **kwargs):\n",
    "    #     print('kwargs: ', kwargs)\n",
    "    geant4_noise = geant4_deposit.copy()\n",
    "    geant4_noise = cv2.GaussianBlur(geant4_noise, (3, 3), kwargs[\"blur_sigma\"])\n",
    "    geant4_noise_wo_jpeg = normalize_image(\n",
    "        geant4_noise, min_val=0, max_val=kwargs[\"max_val\"]\n",
    "    )\n",
    "    geant4_noise = jpeg_block_noise(\n",
    "        geant4_noise_wo_jpeg, quality=kwargs[\"jpeg_quality\"]\n",
    "    )\n",
    "\n",
    "    if geant4_noise.dtype != np.uint8:\n",
    "        geant4_noise = (255 * geant4_noise).astype(np.uint8)\n",
    "\n",
    "    # absolute noise model\n",
    "    noisy_img = wo_noise.copy()\n",
    "    mask = np.any(geant4_noise[...,None] > wo_noise, axis=-1)\n",
    "    noisy_img[mask] = geant4_noise[mask][..., None]\n",
    "\n",
    "    return noisy_img"
   ]
  },
  {
   "cell_type": "code",
   "execution_count": null,
   "metadata": {},
   "outputs": [],
   "source": [
    "len(wo_noise_imgs)"
   ]
  },
  {
   "cell_type": "code",
   "execution_count": null,
   "metadata": {
    "ExecuteTime": {
     "end_time": "2020-10-07T05:57:14.130686Z",
     "start_time": "2020-10-07T05:57:14.079770Z"
    }
   },
   "outputs": [],
   "source": [
    "# Generate gamma noise image\n",
    "noisy_imgs = []\n",
    "for deposit, wo_noise in zip(geant4_deposits, wo_noise_imgs):\n",
    "    noisy_img = convert_func_color(deposit, wo_noise, **params)\n",
    "    noisy_imgs.append(noisy_img)"
   ]
  },
  {
   "cell_type": "code",
   "execution_count": null,
   "metadata": {},
   "outputs": [],
   "source": [
    "for it in noisy_imgs:\n",
    "    cv2.imshow('img', it)\n",
    "    key = cv2.waitKey(100)\n",
    "    if key == 27:\n",
    "        break\n",
    "cv2.destroyAllWindows()"
   ]
  },
  {
   "cell_type": "code",
   "execution_count": null,
   "metadata": {},
   "outputs": [],
   "source": [
    "h,w,c = noisy_imgs[0].shape\n",
    "frame_rate = 24.0\n",
    "size = (w, h)\n",
    "fmt = cv2.VideoWriter_fourcc('m', 'p', '4', 'v') \n",
    "writer = cv2.VideoWriter(video_fname.replace(\".mp4\", \"_noisy.mp4\"), fmt, frame_rate, size)\n",
    "for it in noisy_imgs:\n",
    "    writer.write(it)\n",
    "writer.release()"
   ]
  },
  {
   "cell_type": "code",
   "execution_count": null,
   "metadata": {},
   "outputs": [],
   "source": []
  }
 ],
 "metadata": {
  "kernelspec": {
   "display_name": "Python 3",
   "language": "python",
   "name": "python3"
  },
  "language_info": {
   "codemirror_mode": {
    "name": "ipython",
    "version": 3
   },
   "file_extension": ".py",
   "mimetype": "text/x-python",
   "name": "python",
   "nbconvert_exporter": "python",
   "pygments_lexer": "ipython3",
   "version": "3.8.5"
  },
  "toc": {
   "base_numbering": 1,
   "nav_menu": {},
   "number_sections": true,
   "sideBar": true,
   "skip_h1_title": false,
   "title_cell": "Table of Contents",
   "title_sidebar": "Contents",
   "toc_cell": false,
   "toc_position": {},
   "toc_section_display": true,
   "toc_window_display": false
  }
 },
 "nbformat": 4,
 "nbformat_minor": 4
}
