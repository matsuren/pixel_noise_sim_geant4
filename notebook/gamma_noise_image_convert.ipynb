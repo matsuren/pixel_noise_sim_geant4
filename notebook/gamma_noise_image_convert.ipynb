{
 "cells": [
  {
   "cell_type": "markdown",
   "metadata": {},
   "source": [
    "# Converter"
   ]
  },
  {
   "cell_type": "code",
   "execution_count": null,
   "metadata": {},
   "outputs": [],
   "source": [
    "import cv2\n",
    "import numpy as np\n",
    "import matplotlib.pyplot as plt\n",
    "import json\n",
    "from converter import convert_func\n",
    "DATA_FOLDER = \"./data/\"\n",
    "%matplotlib inline"
   ]
  },
  {
   "cell_type": "code",
   "execution_count": null,
   "metadata": {},
   "outputs": [],
   "source": [
    "# Load optim function\n",
    "json_fname = \"convert_params_camera3.json\"\n",
    "with open(json_fname) as f:\n",
    "    params = json.load(f)\n",
    "    \n",
    "print(params)"
   ]
  },
  {
   "cell_type": "code",
   "execution_count": null,
   "metadata": {},
   "outputs": [],
   "source": [
    "# Load image without gamma noise\n",
    "wo_noise = cv2.imread(f\"{DATA_FOLDER}/cam3_wo_noise.png\", 0)\n",
    "plt.imshow(wo_noise, vmin=0, vmax=255)"
   ]
  },
  {
   "cell_type": "code",
   "execution_count": null,
   "metadata": {},
   "outputs": [],
   "source": [
    "# Generate gamma noise image\n",
    "noisy_imgs = []\n",
    "for i in range(5):\n",
    "    geant4_deposit = np.load(f\"{DATA_FOLDER}/geant4_gamma_noise_{i}.npy\")\n",
    "    noisy_img = convert_func(geant4_deposit, wo_noise, **params)\n",
    "    noisy_imgs.append(noisy_img)"
   ]
  },
  {
   "cell_type": "code",
   "execution_count": null,
   "metadata": {},
   "outputs": [],
   "source": [
    "# Visualize gamma images\n",
    "from itertools import cycle\n",
    "i = 0\n",
    "while True:\n",
    "    noisy = noisy_imgs[i%len(noisy_imgs)]\n",
    "    cv2.imshow(\"img wo noise\", wo_noise)\n",
    "    cv2.imshow(\"noisy img\", noisy)\n",
    "\n",
    "    key = cv2.waitKey(100)\n",
    "    if key == 27:\n",
    "        break\n",
    "    i += 1\n",
    "cv2.destroyAllWindows()"
   ]
  },
  {
   "cell_type": "code",
   "execution_count": null,
   "metadata": {},
   "outputs": [],
   "source": []
  }
 ],
 "metadata": {
  "kernelspec": {
   "display_name": "Python 3",
   "language": "python",
   "name": "python3"
  },
  "language_info": {
   "codemirror_mode": {
    "name": "ipython",
    "version": 3
   },
   "file_extension": ".py",
   "mimetype": "text/x-python",
   "name": "python",
   "nbconvert_exporter": "python",
   "pygments_lexer": "ipython3",
   "version": "3.7.3"
  },
  "toc": {
   "base_numbering": 1,
   "nav_menu": {},
   "number_sections": true,
   "sideBar": true,
   "skip_h1_title": false,
   "title_cell": "Table of Contents",
   "title_sidebar": "Contents",
   "toc_cell": false,
   "toc_position": {},
   "toc_section_display": true,
   "toc_window_display": false
  }
 },
 "nbformat": 4,
 "nbformat_minor": 4
}
