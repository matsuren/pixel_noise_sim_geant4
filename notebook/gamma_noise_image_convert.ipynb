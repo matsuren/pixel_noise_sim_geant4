{
 "cells": [
  {
   "cell_type": "markdown",
   "metadata": {},
   "source": [
    "# Converter"
   ]
  },
  {
   "cell_type": "code",
   "execution_count": null,
   "metadata": {},
   "outputs": [],
   "source": [
    "import cv2\n",
    "import numpy as np\n",
    "import matplotlib.pyplot as plt\n",
    "import json\n",
    "from converter import convert_func\n",
    "DATA_FOLDER = \"./data/\"\n",
    "CAM_NAME = \"camera3\"\n",
    "\n",
    "# DATA_FOLDER = \"./data2/\"\n",
    "# CAM_NAME = \"camera2\"\n",
    "\n",
    "# DATA_FOLDER = \"./data0/\"\n",
    "# CAM_NAME = \"camera0\"\n",
    "%matplotlib inline"
   ]
  },
  {
   "cell_type": "code",
   "execution_count": null,
   "metadata": {},
   "outputs": [],
   "source": [
    "# Load optim function\n",
    "json_fname = f\"convert_params_{CAM_NAME}.json\"\n",
    "with open(json_fname) as f:\n",
    "    params = json.load(f)\n",
    "    \n",
    "print(params)"
   ]
  },
  {
   "cell_type": "code",
   "execution_count": null,
   "metadata": {},
   "outputs": [],
   "source": [
    "# Load image without gamma noise\n",
    "wo_noise = cv2.imread(f\"{DATA_FOLDER}/cam3_wo_noise.png\", 0)\n",
    "# wo_noise = cv2.imread(f\"{DATA_FOLDER}/image_wo_noise.png\", 0)\n",
    "\n",
    "plt.imshow(wo_noise, vmin=0, vmax=255)"
   ]
  },
  {
   "cell_type": "code",
   "execution_count": null,
   "metadata": {},
   "outputs": [],
   "source": [
    "# Generate gamma noise image\n",
    "noisy_imgs = []\n",
    "for i in range(5):\n",
    "    geant4_deposit = np.load(f\"{DATA_FOLDER}/geant4_gamma_noise_{i}.npy\")\n",
    "    noisy_img = convert_func(geant4_deposit, wo_noise, **params)\n",
    "    noisy_imgs.append(noisy_img)"
   ]
  },
  {
   "cell_type": "code",
   "execution_count": null,
   "metadata": {},
   "outputs": [],
   "source": [
    "from scipy.stats import binom\n",
    "# Salt-and-pepper noise\n",
    "img_size = wo_noise.shape\n",
    "p = 0.01\n",
    "salt_pepper = binom.rvs(n=1, p=p, loc=0, size=img_size)\n",
    "plt.imshow(salt_pepper)"
   ]
  },
  {
   "cell_type": "code",
   "execution_count": null,
   "metadata": {},
   "outputs": [],
   "source": [
    "# Salt-and-pepper\n",
    "json_fname = f\"convert_params_{CAM_NAME}_salt_pepper.json\"\n",
    "with open(json_fname) as f:\n",
    "    sp_params = json.load(f)\n",
    "    \n",
    "def add_salt_and_pepper(wo_noise, p=0.1):\n",
    "    s_p_noisy = wo_noise.copy()\n",
    "    salt_pepper = binom.rvs(n=1, p=p, loc=0, size=img_size)\n",
    "    s_p_noisy[salt_pepper==1] = 255\n",
    "    return s_p_noisy"
   ]
  },
  {
   "cell_type": "code",
   "execution_count": null,
   "metadata": {},
   "outputs": [],
   "source": [
    "# Visualize gamma images\n",
    "from itertools import cycle\n",
    "i = 0\n",
    "while True:\n",
    "    noisy = noisy_imgs[i%len(noisy_imgs)]\n",
    "    cv2.imshow(\"img wo noise\", wo_noise)\n",
    "    cv2.imshow(\"noisy img\", noisy)\n",
    "    \n",
    "    s_p_noisy = add_salt_and_pepper(wo_noise, p=sp_params['prob'])\n",
    "    cv2.imshow(\"Salt-and-pepper noise\", s_p_noisy)\n",
    "\n",
    "    key = cv2.waitKey(100)\n",
    "    if key == 27:\n",
    "        break\n",
    "    i += 1\n",
    "cv2.destroyAllWindows()"
   ]
  },
  {
   "cell_type": "code",
   "execution_count": null,
   "metadata": {},
   "outputs": [],
   "source": [
    "len(noisy_imgs)"
   ]
  },
  {
   "cell_type": "code",
   "execution_count": null,
   "metadata": {},
   "outputs": [],
   "source": [
    "# s_p_imgs = [add_salt_and_pepper(wo_noise, p=sp_params[\"prob\"]) for _ in range(5)]\n",
    "# PAPER_FOLDER = f\"./{CAM_NAME}_noise_paper/\"\n",
    "# for i, img in enumerate(s_p_imgs):\n",
    "#     cv2.imwrite(f\"{PAPER_FOLDER}/sp_noise_img_{i}.png\", img)\n",
    "# print(sp_params)"
   ]
  },
  {
   "cell_type": "markdown",
   "metadata": {
    "ExecuteTime": {
     "end_time": "2020-10-07T01:32:40.037433Z",
     "start_time": "2020-10-07T01:32:39.836303Z"
    }
   },
   "source": [
    "# Metrics"
   ]
  },
  {
   "cell_type": "code",
   "execution_count": null,
   "metadata": {},
   "outputs": [],
   "source": [
    "# PAPER_FOLDER = f\"./{CAM_NAME}_noise_paper/\"\n",
    "# print(PAPER_FOLDER)\n",
    "# proposed_imgs = [cv2.imread(f\"{PAPER_FOLDER}/generated_noise_img_{i}.png\", 0) for i in range(5)]\n",
    "# s_p_imgs = [cv2.imread(f\"{PAPER_FOLDER}/sp_noise_img_{i}.png\", 0) for i in range(5)]\n",
    "# gt_noisy_imgs = [cv2.imread(f\"{PAPER_FOLDER}/gt_noise_img_{i}.png\", 0) for i in range(5)]"
   ]
  },
  {
   "cell_type": "code",
   "execution_count": null,
   "metadata": {},
   "outputs": [],
   "source": [
    "# import numpy as np\n",
    "# import matplotlib.pyplot as plt\n",
    "\n",
    "# from skimage import img_as_float\n",
    "# from skimage.metrics import structural_similarity as ssim\n",
    "\n",
    "# img = img_as_float(gt_noisy_imgs[0])\n",
    "# img_proposed = img_as_float(proposed_imgs[0])\n",
    "# img_sp = img_as_float(s_p_imgs[0])\n",
    "\n",
    "# fig, axes = plt.subplots(nrows=1, ncols=3, figsize=(10, 4),\n",
    "#                          sharex=True, sharey=True)\n",
    "# ax = axes.ravel()\n",
    "\n",
    "# ssim_proposed = ssim(img, img_proposed)\n",
    "# ssim_sp = ssim(img, img_sp)\n",
    "\n",
    "# label = 'SSIM: {:.2f}'\n",
    "\n",
    "# ax[0].imshow(img, cmap=plt.cm.gray, vmin=0, vmax=1)\n",
    "# ax[0].set_title('Groudtruth image')\n",
    "\n",
    "# ax[1].imshow(img_proposed, cmap=plt.cm.gray, vmin=0, vmax=1)\n",
    "# ax[1].set_xlabel(label.format(ssim_proposed))\n",
    "# ax[1].set_title('Proposed noisy image')\n",
    "\n",
    "# ax[2].imshow(img_sp, cmap=plt.cm.gray, vmin=0, vmax=1)\n",
    "# ax[2].set_xlabel(label.format(ssim_sp))\n",
    "# ax[2].set_title('Salt and pepper noisy image')\n",
    "\n",
    "# plt.tight_layout()\n",
    "# plt.savefig(f\"{PAPER_FOLDER}/plot_sim.pdf\")\n",
    "# plt.show()\n"
   ]
  },
  {
   "cell_type": "code",
   "execution_count": null,
   "metadata": {},
   "outputs": [],
   "source": [
    "# msg = '[{}] SSIM: {:.2f}'\n",
    "# # Proposed method score\n",
    "# a = gt_noisy_imgs\n",
    "# b = proposed_imgs\n",
    "# proposed_scores = []\n",
    "# for gt, img in ((x,y) for x in a for y in b):\n",
    "#     gt = img_as_float(gt)\n",
    "#     img = img_as_float(img)\n",
    "#     score = ssim(gt, img)\n",
    "#     proposed_scores.append(score)\n",
    "# print(msg.format(\"proposed\", np.average(proposed_scores)))\n",
    "\n",
    "# # Salt-and-pepper method score\n",
    "# a = gt_noisy_imgs\n",
    "# b = s_p_imgs\n",
    "# sp_scores = []\n",
    "# for gt, img in ((x,y) for x in a for y in b):\n",
    "#     gt = img_as_float(gt)\n",
    "#     img = img_as_float(img)\n",
    "#     score = ssim(gt, img)\n",
    "#     sp_scores.append(score)\n",
    "    \n",
    "# print(msg.format(\"salt-and-pepper\", np.average(sp_scores)))"
   ]
  },
  {
   "cell_type": "code",
   "execution_count": null,
   "metadata": {},
   "outputs": [],
   "source": [
    "# with open(f\"{PAPER_FOLDER}/ssim_score.txt\", 'w') as f:\n",
    "#     msgs = [msg.format(\"proposed\", np.average(proposed_scores)),\n",
    "#             msg.format(\"salt-and-pepper\", np.average(sp_scores))]\n",
    "#     f.writelines(\"\\n\".join(msgs))"
   ]
  }
 ],
 "metadata": {
  "kernelspec": {
   "display_name": "Python 3",
   "language": "python",
   "name": "python3"
  },
  "language_info": {
   "codemirror_mode": {
    "name": "ipython",
    "version": 3
   },
   "file_extension": ".py",
   "mimetype": "text/x-python",
   "name": "python",
   "nbconvert_exporter": "python",
   "pygments_lexer": "ipython3",
   "version": "3.7.3"
  },
  "toc": {
   "base_numbering": 1,
   "nav_menu": {},
   "number_sections": true,
   "sideBar": true,
   "skip_h1_title": false,
   "title_cell": "Table of Contents",
   "title_sidebar": "Contents",
   "toc_cell": false,
   "toc_position": {},
   "toc_section_display": true,
   "toc_window_display": false
  }
 },
 "nbformat": 4,
 "nbformat_minor": 4
}
