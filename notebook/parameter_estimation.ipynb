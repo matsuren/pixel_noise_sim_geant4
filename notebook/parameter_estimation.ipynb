{
 "cells": [
  {
   "cell_type": "markdown",
   "metadata": {},
   "source": [
    "# Generate CSV file first using Geant4\n",
    "Simulation for Cam3 five frames  \n",
    "```\n",
    "./Application_Main 10782150\n",
    "```\n",
    "\n",
    "```\n",
    "Output:detect_result_256_10782150_co.csv, Time elapsed:244[s] \n",
    "```\n"
   ]
  },
  {
   "cell_type": "code",
   "execution_count": null,
   "metadata": {},
   "outputs": [],
   "source": [
    "import numpy as np\n",
    "import cv2\n",
    "import matplotlib.pyplot as plt\n",
    "DATA_FOLDER = \"./data/\"\n",
    "%matplotlib inline"
   ]
  },
  {
   "cell_type": "markdown",
   "metadata": {},
   "source": [
    "## Calculate number of gamma-ray per frame"
   ]
  },
  {
   "cell_type": "code",
   "execution_count": null,
   "metadata": {},
   "outputs": [],
   "source": [
    "m = 1.0\n",
    "cm = 0.01*m\n",
    "mm = 0.1*cm\n",
    "um = 0.001*mm\n",
    "\n",
    "length = 1*m\n",
    "# print(f'{length / cm} cm, {length / mm} mm, {length / um} um')\n",
    "\n",
    "# position\n",
    "# dist = 800*mm # camera 0\n",
    "# dist = 1510*mm # camera 2\n",
    "dist = 1240*mm # camera 3\n",
    "\n",
    "PBq = 1.0*10**15\n",
    "fps = 12\n",
    "num_gamma_frame = 2 * 1 * PBq / fps #　how many gamma-ray per 1 frame？ (Co60:2, Cs137:1)\n",
    "\n",
    "# plane is facing radiation source\n",
    "# calculated by utilizing steradian\n",
    "area =  0.5*mm * 0.5 * mm\n",
    "sterad = area / (4*np.pi*dist*dist)\n",
    "print('sterad:', sterad)\n",
    "print(f'/run/beamOn {int(num_gamma_frame * sterad)}')\n",
    "event_offset = int(num_gamma_frame * sterad)"
   ]
  },
  {
   "cell_type": "markdown",
   "metadata": {},
   "source": [
    "## Load and parse CSV"
   ]
  },
  {
   "cell_type": "code",
   "execution_count": null,
   "metadata": {},
   "outputs": [],
   "source": [
    "# Camera 3\n",
    "fname = f\"../build/detect_result_256_10782150_co_nt_Pixel_eDep.csv\""
   ]
  },
  {
   "cell_type": "code",
   "execution_count": null,
   "metadata": {},
   "outputs": [],
   "source": [
    "def parse_line(line):\n",
    "    event_id, x, y, keV = line.strip().split(',')\n",
    "    event_id = int(event_id)\n",
    "    x = int(x)\n",
    "    y = int(y)\n",
    "    keV = float(keV)\n",
    "    return event_id, x, y, keV"
   ]
  },
  {
   "cell_type": "code",
   "execution_count": null,
   "metadata": {},
   "outputs": [],
   "source": [
    "# Load csv file\n",
    "with open(fname) as f:\n",
    "    lines = f.readlines()\n",
    "\n",
    "noise_imgs = []\n",
    "hist_keV = {}\n",
    "# event_offset = 100000000\n",
    "# event_offset = 5180824 # camera 0\n",
    "# event_offset = 1454202 # camera 2\n",
    "# event_offset = 2156430 # camera 3\n",
    "\n",
    "img_size = (128,128)\n",
    "img_size = (256,256)\n",
    "for line in lines:\n",
    "    if line[0] == '#':\n",
    "        continue\n",
    "    # parse line\n",
    "    event_id, x, y, keV = parse_line(line)\n",
    "    \n",
    "    # add images\n",
    "    while event_offset * len(noise_imgs) < event_id:\n",
    "        noise_imgs.append(np.zeros(img_size))\n",
    "    noise_imgs[-1][y, x] += keV\n",
    "\n",
    "    if not event_id in hist_keV:\n",
    "        hist_keV[event_id] = keV\n",
    "    else:\n",
    "        hist_keV[event_id] += keV\n",
    "print(f'Total {len(noise_imgs)} frames')"
   ]
  },
  {
   "cell_type": "code",
   "execution_count": null,
   "metadata": {
    "scrolled": false
   },
   "outputs": [],
   "source": [
    "event_id"
   ]
  },
  {
   "cell_type": "code",
   "execution_count": null,
   "metadata": {},
   "outputs": [],
   "source": [
    "# Save simulated noise images\n",
    "for i, it in enumerate(noise_imgs):\n",
    "    npy_fname = f'{DATA_FOLDER}/geant4_gamma_noise_{i}.npy'\n",
    "    np.save(npy_fname, it)\n",
    "    if i%5 == 0:\n",
    "        print('save noise:', npy_fname)\n",
    "plt.imshow(noise_imgs[0])"
   ]
  },
  {
   "cell_type": "code",
   "execution_count": null,
   "metadata": {},
   "outputs": [],
   "source": [
    "# Load noise only image\n",
    "gt_only_noises = []\n",
    "for i in range(5):\n",
    "    gt_only_noises.append(np.load(f\"{DATA_FOLDER}/gt_only_noise_{i}.npy\"))\n",
    "plt.imshow(gt_only_noises[0], vmin=0, vmax=255)"
   ]
  },
  {
   "cell_type": "markdown",
   "metadata": {},
   "source": [
    "# Estimate optim parameters for converter"
   ]
  },
  {
   "cell_type": "code",
   "execution_count": null,
   "metadata": {},
   "outputs": [],
   "source": [
    "from converter import optim_func"
   ]
  },
  {
   "cell_type": "code",
   "execution_count": null,
   "metadata": {},
   "outputs": [],
   "source": [
    "kwargs = {}\n",
    "kwargs['noise_img'] = noise_imgs[0]\n",
    "kwargs['gt_noise'] = gt_only_noises[0]\n",
    "kwargs[\"max_val\"] = 4 # in keV\n",
    "kwargs[\"min_val\"] = 0  # in keV\n",
    "kwargs[\"blur_sigma\"] = 0.5\n",
    "kwargs[\"jpeg_quality\"] = 24\n",
    "score, geant4_noise, noise_gt = optim_func(return_img=True, **kwargs)\n",
    "fig, ax = plt.subplots(1, 2, figsize=(8,8))\n",
    "ax[0].imshow(geant4_noise, vmin=0, vmax=255)\n",
    "ax[1].imshow(noise_gt, vmin=0, vmax=255)\n",
    "print(score)\n"
   ]
  },
  {
   "cell_type": "markdown",
   "metadata": {},
   "source": [
    "## Grid search\n",
    "\n",
    "22491/22491 [03:36<00:00, 103.93it/s]"
   ]
  },
  {
   "cell_type": "code",
   "execution_count": null,
   "metadata": {},
   "outputs": [],
   "source": [
    "from sklearn.model_selection import ParameterGrid\n",
    "param_grid = {\n",
    "#     'max_val': np.linspace(1, 10, num=91), \n",
    "    'max_val': np.linspace(1, 6, num=51), \n",
    "    'blur_sigma': np.linspace(0.0, 1.0, num=21),\n",
    "    'jpeg_quality':list(map(int, np.linspace(0, 100, num=21)))\n",
    "}"
   ]
  },
  {
   "cell_type": "code",
   "execution_count": null,
   "metadata": {},
   "outputs": [],
   "source": [
    "from tqdm.notebook import tqdm\n",
    "best_score = np.inf\n",
    "best_param = None\n",
    "kwargs = {}\n",
    "kwargs['noise_img'] = noise_imgs[0]\n",
    "kwargs['gt_noise'] = gt_only_noises[0]\n",
    "kwargs[\"min_val\"] = 0\n",
    "\n",
    "for param in tqdm(ParameterGrid(param_grid)):\n",
    "    kwargs.update(param)\n",
    "    score = 0\n",
    "    for i in range(5):\n",
    "        kwargs['gt_noise'] = gt_only_noises[i]\n",
    "        tmp_score = optim_func(**kwargs)\n",
    "    score = score + tmp_score\n",
    "    if best_score > score:\n",
    "        print(f'update score:{best_score} -> {score}')\n",
    "        best_score = score\n",
    "        best_param = dict(param)\n",
    "        \n",
    "print(best_score)\n",
    "print(best_param)"
   ]
  },
  {
   "cell_type": "code",
   "execution_count": null,
   "metadata": {},
   "outputs": [],
   "source": [
    "print(best_param)\n",
    "kwargs = {}\n",
    "kwargs['noise_img'] = noise_imgs[0]\n",
    "kwargs['gt_noise'] = gt_only_noises[0]\n",
    "kwargs.update(best_param)\n",
    "\n",
    "score, geant4_noise, noise_gt = optim_func(return_img=True, **kwargs)\n",
    "fig, ax = plt.subplots(1, 2, figsize=(8,8))\n",
    "ax[0].imshow(geant4_noise, vmin=0, vmax=255)\n",
    "ax[0].set_title(\"geant4 noise\")\n",
    "ax[1].imshow(noise_gt, vmin=0, vmax=255)\n",
    "ax[1].set_title(\"real noise\")\n",
    "print(score)"
   ]
  },
  {
   "cell_type": "markdown",
   "metadata": {},
   "source": [
    "# Save optim parameters"
   ]
  },
  {
   "cell_type": "code",
   "execution_count": null,
   "metadata": {},
   "outputs": [],
   "source": [
    "import json\n",
    "with open(f'convert_params_camera3.json', 'w') as f:\n",
    "    json.dump(best_param, f)"
   ]
  },
  {
   "cell_type": "markdown",
   "metadata": {},
   "source": [
    "# Comparison\n",
    "## Salt-and-pepper noise"
   ]
  },
  {
   "cell_type": "code",
   "execution_count": null,
   "metadata": {},
   "outputs": [],
   "source": [
    "from scipy.stats import binom\n",
    "# Salt-and-pepper noise\n",
    "img_size = gt_only_noises[0].shape\n",
    "p = 0.01\n",
    "salt_pepper = binom.rvs(n=1, p=p, loc=0, size=img_size)\n",
    "plt.imshow(salt_pepper)"
   ]
  },
  {
   "cell_type": "code",
   "execution_count": null,
   "metadata": {},
   "outputs": [],
   "source": [
    "\n",
    "def add_salt_and_pepper(wo_noise, p=0.1):\n",
    "    s_p_noisy = wo_noise.copy()\n",
    "    salt_pepper = binom.rvs(n=1, p=p, loc=0, size=img_size)\n",
    "    s_p_noisy[salt_pepper==1] = 255\n",
    "    return s_p_noisy"
   ]
  },
  {
   "cell_type": "code",
   "execution_count": null,
   "metadata": {},
   "outputs": [],
   "source": [
    "from converter import calcEMD\n",
    "\n",
    "def optim_func_sp(return_img=False, **kwargs):\n",
    "    # gt noise\n",
    "    gt_noise = kwargs[\"gt_noise\"].copy()\n",
    "    hist_gt = cv2.calcHist([gt_noise], [0], None, [32], [0, 256]).flatten()\n",
    "    \n",
    "    geant4_noise = np.zeros_like(gt_noise)\n",
    "    geant4_noise = add_salt_and_pepper(geant4_noise, p=kwargs[\"prob\"])\n",
    "\n",
    "    # calc histogram and compare\n",
    "    if geant4_noise.dtype != np.uint8:\n",
    "        geant4_noise = (255 * geant4_noise).astype(np.uint8)\n",
    "    hist_noise = cv2.calcHist([geant4_noise], [0], None, [32], [0, 256]).flatten()\n",
    "\n",
    "\n",
    "    dist = calcEMD(hist_noise, hist_gt)\n",
    "    #     dist = calcCORREL(hist_noise, hist_gt)\n",
    "\n",
    "    if return_img:\n",
    "        return dist, geant4_noise, gt_noise\n",
    "    else:\n",
    "        return dist\n"
   ]
  },
  {
   "cell_type": "code",
   "execution_count": null,
   "metadata": {},
   "outputs": [],
   "source": [
    "from sklearn.model_selection import ParameterGrid\n",
    "param_grid = {\n",
    "    'prob': np.linspace(0, 0.1, num=101),\n",
    "}"
   ]
  },
  {
   "cell_type": "code",
   "execution_count": null,
   "metadata": {},
   "outputs": [],
   "source": [
    "from tqdm.notebook import tqdm\n",
    "best_score = np.inf\n",
    "best_param = None\n",
    "kwargs = {}\n",
    "kwargs['gt_noise'] = gt_only_noises[0]\n",
    "\n",
    "for param in tqdm(ParameterGrid(param_grid)):\n",
    "    kwargs.update(param)\n",
    "    score = 0\n",
    "    for i in range(5):\n",
    "        kwargs['gt_noise'] = gt_only_noises[i]\n",
    "        tmp_score = optim_func_sp(**kwargs)\n",
    "    score = score + tmp_score\n",
    "    if best_score > score:\n",
    "        print(f'update score:{best_score} -> {score}')\n",
    "        best_score = score\n",
    "        best_param = dict(param)\n",
    "        \n",
    "print(best_score)\n",
    "print(best_param)"
   ]
  },
  {
   "cell_type": "code",
   "execution_count": null,
   "metadata": {},
   "outputs": [],
   "source": [
    "kwargs.update(best_param)\n",
    "dist, geant4_noise, gt_noise = optim_func_sp(return_img=True, **kwargs)\n",
    "fig, ax = plt.subplots(1, 2)\n",
    "ax[0].imshow(geant4_noise)\n",
    "ax[1].imshow(gt_noise)"
   ]
  },
  {
   "cell_type": "code",
   "execution_count": null,
   "metadata": {},
   "outputs": [],
   "source": [
    "import json\n",
    "with open(f'convert_params_camera3_salt_pepper.json', 'w') as f:\n",
    "    json.dump(best_param, f)"
   ]
  },
  {
   "cell_type": "code",
   "execution_count": null,
   "metadata": {},
   "outputs": [],
   "source": []
  }
 ],
 "metadata": {
  "jupytext": {
   "cell_metadata_filter": "-all",
   "notebook_metadata_filter": "-all"
  },
  "kernelspec": {
   "display_name": "Python 3",
   "language": "python",
   "name": "python3"
  },
  "language_info": {
   "codemirror_mode": {
    "name": "ipython",
    "version": 3
   },
   "file_extension": ".py",
   "mimetype": "text/x-python",
   "name": "python",
   "nbconvert_exporter": "python",
   "pygments_lexer": "ipython3",
   "version": "3.7.3"
  },
  "toc": {
   "base_numbering": 1,
   "nav_menu": {},
   "number_sections": true,
   "sideBar": true,
   "skip_h1_title": false,
   "title_cell": "Table of Contents",
   "title_sidebar": "Contents",
   "toc_cell": false,
   "toc_position": {},
   "toc_section_display": true,
   "toc_window_display": false
  }
 },
 "nbformat": 4,
 "nbformat_minor": 2
}
